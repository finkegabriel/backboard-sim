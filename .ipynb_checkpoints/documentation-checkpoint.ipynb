{
 "cells": [
  {
   "cell_type": "markdown",
   "metadata": {},
   "source": [
    "The purpose of this paper is to recreate the work done by the youtube channel \"stuff made here\". Specfically on the french cleat parabolic never miss basketball hoop."
   ]
  },
  {
   "cell_type": "code",
   "execution_count": 2,
   "metadata": {},
   "outputs": [
    {
     "ename": "ModuleNotFoundError",
     "evalue": "No module named 'matplotlib'",
     "output_type": "error",
     "traceback": [
      "\u001b[0;31m---------------------------------------------------------------------------\u001b[0m",
      "\u001b[0;31mModuleNotFoundError\u001b[0m                       Traceback (most recent call last)",
      "Cell \u001b[0;32mIn[2], line 5\u001b[0m\n\u001b[1;32m      1\u001b[0m \u001b[39m'''\u001b[39;00m\n\u001b[1;32m      2\u001b[0m \u001b[39mFirst create graph with a hoop\u001b[39;00m\n\u001b[1;32m      3\u001b[0m \u001b[39m'''\u001b[39;00m\n\u001b[0;32m----> 5\u001b[0m \u001b[39mfrom\u001b[39;00m \u001b[39mmatplotlib\u001b[39;00m\u001b[39m.\u001b[39;00m\u001b[39mpatches\u001b[39;00m \u001b[39mimport\u001b[39;00m Rectangle,Circle\n\u001b[1;32m      6\u001b[0m \u001b[39mfrom\u001b[39;00m \u001b[39mgraph\u001b[39;00m \u001b[39mimport\u001b[39;00m Graph\n\u001b[1;32m      7\u001b[0m \u001b[39mimport\u001b[39;00m \u001b[39mmatplotlib\u001b[39;00m\u001b[39m.\u001b[39;00m\u001b[39mpyplot\u001b[39;00m \u001b[39mas\u001b[39;00m \u001b[39mplt\u001b[39;00m\n",
      "\u001b[0;31mModuleNotFoundError\u001b[0m: No module named 'matplotlib'"
     ]
    }
   ],
   "source": [
    "'''\n",
    "First create graph with a hoop\n",
    "'''\n",
    "\n",
    "from matplotlib.patches import Rectangle,Circle\n",
    "from graph import Graph\n",
    "import matplotlib.pyplot as plt\n",
    "import numpy as np\n",
    "import parabolic as para\n",
    "import importlib\n",
    "from datetime import datetime, timedelta\n",
    "import scipy.optimize as optimize\n",
    "from mpl_toolkits.mplot3d import Axes3D\n",
    "from scipy.spatial.transform import Rotation as R\n",
    "import math as math\n",
    "import scipy.optimize as opt\n",
    "\n",
    "\n",
    "g1 = Graph()\n",
    "ax = plt.axes(projection=\"3d\")\n",
    "\n",
    "doex = [.4,.4,.4,.4]\n",
    "doey = [11,2,2,11]\n",
    "doez = [9.9,9.9,15.9,15.9]\n",
    "\n",
    "theta = 1.52\n",
    "h= 0\n",
    "k= 0\n",
    "offset = .4\n",
    "\n",
    "xParaBounds = 9\n",
    "yParaBounds = 7\n",
    "\n",
    "# bellow will draw points where the parabolic mesh should be top left, top right, center, bottom right, and bottom left points\n",
    "ax.scatter(doex, doey, doez, color='b')\n",
    "ax.scatter(doex[0],((doey[0]+doey[1])/2),((doez[0]+doez[2])/2),color='b')\n",
    "\n",
    "\n",
    "g1.draw(ax,b,p,c)\n",
    "plt.show()\n",
    "importlib.reload(plt)\n",
    "\n"
   ]
  }
 ],
 "metadata": {
  "kernelspec": {
   "display_name": "Python 3",
   "language": "python",
   "name": "python3"
  },
  "language_info": {
   "codemirror_mode": {
    "name": "ipython",
    "version": 3
   },
   "file_extension": ".py",
   "mimetype": "text/x-python",
   "name": "python",
   "nbconvert_exporter": "python",
   "pygments_lexer": "ipython3",
   "version": "3.8.5"
  },
  "vscode": {
   "interpreter": {
    "hash": "b0fa6594d8f4cbf19f97940f81e996739fb7646882a419484c72d19e05852a7e"
   }
  }
 },
 "nbformat": 4,
 "nbformat_minor": 4
}
